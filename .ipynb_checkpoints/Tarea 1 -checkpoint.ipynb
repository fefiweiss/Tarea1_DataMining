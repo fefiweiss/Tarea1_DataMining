{
 "cells": [
  {
   "cell_type": "code",
   "execution_count": 15,
   "metadata": {
    "collapsed": false,
    "deletable": true,
    "editable": true
   },
   "outputs": [],
   "source": [
    "import pandas as pd\n",
    "import numpy as np\n",
    "import matplotlib.pyplot as plt \n",
    "from sklearn import datasets\n",
    "from time import time\n",
    "\n",
    "read = pd.read_csv(\"beer_reviews/test.csv\")"
   ]
  },
  {
   "cell_type": "code",
   "execution_count": 16,
   "metadata": {
    "collapsed": false,
    "deletable": true,
    "editable": true
   },
   "outputs": [],
   "source": [
    "read = read[[\"brewery_name\", \n",
    "            \"review_overall\", \n",
    "            \"review_aroma\", \n",
    "            \"review_appearance\", \n",
    "            \"beer_style\", \n",
    "            \"review_palate\",\n",
    "            \"review_taste\",\n",
    "            \"beer_name\",\n",
    "            \"beer_abv\"]]\n",
    "\n",
    "#print read[:10]\n",
    "reviews = read.as_matrix()\n",
    "\n",
    "#cerrar read pero no lo encontre xd"
   ]
  },
  {
   "cell_type": "code",
   "execution_count": 17,
   "metadata": {
    "collapsed": false,
    "deletable": true,
    "editable": true,
    "scrolled": true
   },
   "outputs": [
    {
     "name": "stdout",
     "output_type": "stream",
     "text": [
      "<type 'numpy.ndarray'>\n",
      "['Vecchio Birraio' 1.5 2.0 2.5 'Hefeweizen' 1.5 1.5 'Sausa Weizen' 5.0]\n",
      "316\n",
      "[[2.0 1.5]\n",
      " [2.5 3.0]\n",
      " [2.5 3.0]\n",
      " [3.0 2.5]\n",
      " [4.5 4.0]\n",
      " [3.5 3.0]\n",
      " [3.5 4.0]\n",
      " [2.5 2.0]\n",
      " [3.0 3.5]\n",
      " [3.5 4.0]]\n"
     ]
    }
   ],
   "source": [
    "print type(reviews)\n",
    "print reviews[0]\n",
    "print len(reviews)\n",
    "print reviews[:10,[2,5]]"
   ]
  },
  {
   "cell_type": "markdown",
   "metadata": {},
   "source": [
    "nota: no usar ni el 100% ni el 10% del dataset, dead memory"
   ]
  },
  {
   "cell_type": "code",
   "execution_count": 13,
   "metadata": {
    "collapsed": false
   },
   "outputs": [
    {
     "name": "stdout",
     "output_type": "stream",
     "text": [
      "conjunto de valores de over_all\n",
      "set([1.5, 3.5, 2.0, 3.0, 4.0, 5.0, 4.5, 2.5])\n",
      "3\n",
      "1\n"
     ]
    }
   ],
   "source": [
    "print \"conjunto de valores de over_all\"\n",
    "asd = set()\n",
    "for y in reviews[:,[1]] : #review over_all\n",
    "    asd.add(y[0])\n",
    "print asd\n",
    "\n",
    "n = len(reviews) * 0.01\n",
    "print int(n)\n",
    "\n",
    "brewery = set()\n",
    "for y in reviews[:int(n),[0]] : #review over_all\n",
    "    brewery.add(y[0])\n",
    "print len(brewery)"
   ]
  },
  {
   "cell_type": "code",
   "execution_count": 14,
   "metadata": {
    "collapsed": false,
    "deletable": true,
    "editable": true,
    "scrolled": true
   },
   "outputs": [
    {
     "ename": "ValueError",
     "evalue": "n_samples=3 should be >= n_clusters=11",
     "output_type": "error",
     "traceback": [
      "\u001b[0;31m---------------------------------------------------------------------------\u001b[0m",
      "\u001b[0;31mValueError\u001b[0m                                Traceback (most recent call last)",
      "\u001b[0;32m<ipython-input-14-da711489befb>\u001b[0m in \u001b[0;36m<module>\u001b[0;34m()\u001b[0m\n\u001b[1;32m     15\u001b[0m \u001b[0;34m\u001b[0m\u001b[0m\n\u001b[1;32m     16\u001b[0m     \u001b[0mk_means\u001b[0m \u001b[0;34m=\u001b[0m \u001b[0mKMeans\u001b[0m\u001b[0;34m(\u001b[0m \u001b[0minit\u001b[0m\u001b[0;34m=\u001b[0m\u001b[0;34m\"k-means++\"\u001b[0m\u001b[0;34m,\u001b[0m \u001b[0mn_clusters\u001b[0m \u001b[0;34m=\u001b[0m \u001b[0;36m11\u001b[0m\u001b[0;34m,\u001b[0m \u001b[0mn_init\u001b[0m \u001b[0;34m=\u001b[0m \u001b[0;36m2\u001b[0m\u001b[0;34m)\u001b[0m\u001b[0;31m#, tol=0.0001, max_iter=30)\u001b[0m\u001b[0;34m\u001b[0m\u001b[0m\n\u001b[0;32m---> 17\u001b[0;31m     \u001b[0mk_means\u001b[0m\u001b[0;34m.\u001b[0m\u001b[0mfit\u001b[0m\u001b[0;34m(\u001b[0m\u001b[0mX\u001b[0m\u001b[0;34m)\u001b[0m\u001b[0;34m\u001b[0m\u001b[0m\n\u001b[0m\u001b[1;32m     18\u001b[0m \u001b[0;34m\u001b[0m\u001b[0m\n\u001b[1;32m     19\u001b[0m     \u001b[0mfinal_time\u001b[0m \u001b[0;34m=\u001b[0m \u001b[0mtime\u001b[0m\u001b[0;34m(\u001b[0m\u001b[0;34m)\u001b[0m \u001b[0;34m-\u001b[0m \u001b[0mstart_time\u001b[0m\u001b[0;34m\u001b[0m\u001b[0m\n",
      "\u001b[0;32m/anaconda/lib/python2.7/site-packages/sklearn/cluster/k_means_.pyc\u001b[0m in \u001b[0;36mfit\u001b[0;34m(self, X, y)\u001b[0m\n\u001b[1;32m    878\u001b[0m         \"\"\"\n\u001b[1;32m    879\u001b[0m         \u001b[0mrandom_state\u001b[0m \u001b[0;34m=\u001b[0m \u001b[0mcheck_random_state\u001b[0m\u001b[0;34m(\u001b[0m\u001b[0mself\u001b[0m\u001b[0;34m.\u001b[0m\u001b[0mrandom_state\u001b[0m\u001b[0;34m)\u001b[0m\u001b[0;34m\u001b[0m\u001b[0m\n\u001b[0;32m--> 880\u001b[0;31m         \u001b[0mX\u001b[0m \u001b[0;34m=\u001b[0m \u001b[0mself\u001b[0m\u001b[0;34m.\u001b[0m\u001b[0m_check_fit_data\u001b[0m\u001b[0;34m(\u001b[0m\u001b[0mX\u001b[0m\u001b[0;34m)\u001b[0m\u001b[0;34m\u001b[0m\u001b[0m\n\u001b[0m\u001b[1;32m    881\u001b[0m \u001b[0;34m\u001b[0m\u001b[0m\n\u001b[1;32m    882\u001b[0m         \u001b[0mself\u001b[0m\u001b[0;34m.\u001b[0m\u001b[0mcluster_centers_\u001b[0m\u001b[0;34m,\u001b[0m \u001b[0mself\u001b[0m\u001b[0;34m.\u001b[0m\u001b[0mlabels_\u001b[0m\u001b[0;34m,\u001b[0m \u001b[0mself\u001b[0m\u001b[0;34m.\u001b[0m\u001b[0minertia_\u001b[0m\u001b[0;34m,\u001b[0m \u001b[0mself\u001b[0m\u001b[0;34m.\u001b[0m\u001b[0mn_iter_\u001b[0m \u001b[0;34m=\u001b[0m\u001b[0;31m \u001b[0m\u001b[0;31m\\\u001b[0m\u001b[0;34m\u001b[0m\u001b[0m\n",
      "\u001b[0;32m/anaconda/lib/python2.7/site-packages/sklearn/cluster/k_means_.pyc\u001b[0m in \u001b[0;36m_check_fit_data\u001b[0;34m(self, X)\u001b[0m\n\u001b[1;32m    855\u001b[0m         \u001b[0;32mif\u001b[0m \u001b[0mX\u001b[0m\u001b[0;34m.\u001b[0m\u001b[0mshape\u001b[0m\u001b[0;34m[\u001b[0m\u001b[0;36m0\u001b[0m\u001b[0;34m]\u001b[0m \u001b[0;34m<\u001b[0m \u001b[0mself\u001b[0m\u001b[0;34m.\u001b[0m\u001b[0mn_clusters\u001b[0m\u001b[0;34m:\u001b[0m\u001b[0;34m\u001b[0m\u001b[0m\n\u001b[1;32m    856\u001b[0m             raise ValueError(\"n_samples=%d should be >= n_clusters=%d\" % (\n\u001b[0;32m--> 857\u001b[0;31m                 X.shape[0], self.n_clusters))\n\u001b[0m\u001b[1;32m    858\u001b[0m         \u001b[0;32mreturn\u001b[0m \u001b[0mX\u001b[0m\u001b[0;34m\u001b[0m\u001b[0m\n\u001b[1;32m    859\u001b[0m \u001b[0;34m\u001b[0m\u001b[0m\n",
      "\u001b[0;31mValueError\u001b[0m: n_samples=3 should be >= n_clusters=11"
     ]
    }
   ],
   "source": [
    "from sklearn.cluster import KMeans\n",
    "\n",
    "data = [reviews[:int(n),[2,3]], reviews[:int(n),[2,5]], reviews[:int(n),[2,6]], \n",
    "        reviews[:int(n),[3,5]], reviews[:int(n),[3,6]], reviews[:int(n),[1,2]]]\n",
    "labels =[[\"Aroma\", \"Apariencia\"],[\"Aroma\", \"Palate\"],[\"Aroma\", \"Taste\"],\n",
    "         [\"Apariencia\", \"Palate\"], [\"Apariencia\", \"Taste\"],[\"Overall\", \"Aroma\"]]\n",
    "\n",
    "tiempo = 0\n",
    "\n",
    "#Vizualitation\n",
    "fig = plt.figure(figsize = (10,10))\n",
    "\n",
    "for X,i in zip(data, range(6)):\n",
    "    start_time = time()\n",
    "\n",
    "    k_means = KMeans( init=\"k-means++\", n_clusters = 11, n_init = 2)#, tol=0.0001, max_iter=30)\n",
    "    k_means.fit(X)\n",
    "\n",
    "    final_time = time() - start_time\n",
    "    tiempo += final_time\n",
    "    k_means_labels = k_means.labels_\n",
    "    \n",
    "    x_min, x_max = np.min(X, axis = 0), np.max(X, axis = 0)\n",
    "    #X = (X - x_min) / (x_max - x_min)\n",
    "\n",
    "    ax = fig.add_subplot(2,3,i+1)\n",
    "    ax.set_xlabel(labels[i][0])\n",
    "    ax.set_ylabel(labels[i][1])\n",
    "    plt.title(\"Grafico \"+ str(i+1) )\n",
    "    ax.set_xticks(())\n",
    "    ax.set_yticks(())\n",
    "    ax.axis([0, 5.05, 0, 5.05])\n",
    "\n",
    "    #Visualitation (in 2D).\n",
    "    print X.shape[0]\n",
    "    for j in range(X.shape[0]):\n",
    "        plt.text(X[j,0], X[j,1], \"o\",\n",
    "        color=plt.cm.spectral(k_means_labels[j]/10.+0.1),\n",
    "        fontdict={'weight': 'bold', 'size': 8})\n",
    "\n",
    "print \"Tiempo promedio: \", tiempo/6,\"[s]\"\n",
    "plt.show()"
   ]
  },
  {
   "cell_type": "code",
   "execution_count": null,
   "metadata": {
    "collapsed": false,
    "deletable": true,
    "editable": true
   },
   "outputs": [],
   "source": [
    "#Minibatch nacho\n",
    "from sklearn.cluster import MiniBatchKMeans\n",
    "\n",
    "#Data creation\n",
    "data = [reviews[:10000,[2,3]], reviews[:10000,[2,5]], reviews[:10000,[2,6]], \n",
    "        reviews[:10000,[3,5]], reviews[:10000,[3,6]], reviews[:10000,[1,2]]]\n",
    "labels =[[\"Aroma\", \"Apariencia\"],[\"Aroma\", \"Palate\"],[\"Aroma\", \"Taste\"],\n",
    "         [\"Apariencia\", \"Palate\"], [\"Apariencia\", \"Taste\"],[\"Overall\", \"Aroma\"]]\n",
    "\n",
    "tiempo = 0\n",
    "#Vizualitation\n",
    "fig = plt.figure(figsize = (10,10))\n",
    "fig.suptitle('MiniBatchKMeans (Cero = setosa, Uno = versicolor, Dos = virginica)')\n",
    "\n",
    "#Running K-Means\n",
    "for X,i in zip(data, range(6)):\n",
    "    start_time = time()\n",
    "    #print X\n",
    "    mbk = MiniBatchKMeans(init='k-means++', n_clusters=3, n_init=10)#, max_no_improvement=20, batch_size=50, reassignment_ratio=0.2)\n",
    "    mbk.fit(X)\n",
    "    \n",
    "    final_time = time() - start_time\n",
    "    tiempo += final_time\n",
    "    mbk_labels = mbk.labels_\n",
    "\n",
    "    x_min, x_max = np.min(X, axis = 0), np.max(X, axis = 0)\n",
    "   # X = (X - x_min) / (x_max - x_min)\n",
    "    \n",
    "    ax = fig.add_subplot(2,3,i+1)\n",
    "    ax.set_xlabel(labels[i][0])\n",
    "    ax.set_ylabel(labels[i][1])\n",
    "    plt.title(\"Grafico \"+ str(i+1) )\n",
    "    ax.set_xticks(())\n",
    "    ax.set_yticks(())\n",
    "    ax.axis([0, 5.05, 0, 5.05])\n",
    "\n",
    "    for j in range(X.shape[0]):\n",
    "        plt.text(X[j,0], X[j,1], \"o\",\n",
    "        color=plt.cm.spectral(mbk_labels[j]/10.+0.1),\n",
    "        fontdict={'weight': 'bold', 'size': 8})\n",
    "\n",
    "\n",
    "print \"Tiempo promedio: \", tiempo/6,\"[s]\"\n",
    "plt.show()\n",
    " "
   ]
  },
  {
   "cell_type": "code",
   "execution_count": null,
   "metadata": {
    "collapsed": false,
    "deletable": true,
    "editable": true
   },
   "outputs": [],
   "source": [
    "print \"conjunto de valores de over_all\"\n",
    "asd = set()\n",
    "for y in reviews[:,[1]] : #review over_all\n",
    "    asd.add(y[0])\n",
    "print asd"
   ]
  },
  {
   "cell_type": "code",
   "execution_count": null,
   "metadata": {
    "collapsed": true
   },
   "outputs": [],
   "source": []
  },
  {
   "cell_type": "code",
   "execution_count": null,
   "metadata": {
    "collapsed": false,
    "deletable": true,
    "editable": true,
    "scrolled": true
   },
   "outputs": [],
   "source": [
    "# Setting\n",
    "from sklearn.cluster import AgglomerativeClustering as hac\n",
    "\n",
    "#Dataset \n",
    "#Data creation\n",
    "data = [reviews[:10000,[2,3]], reviews[:10000,[2,5]], reviews[:10000,[2,6]], \n",
    "        reviews[:10000,[3,5]], reviews[:10000,[3,6]], reviews[:10000,[1,2]]]\n",
    "labels =[[\"Aroma\", \"Apariencia\"],[\"Aroma\", \"Palate\"],[\"Aroma\", \"Taste\"],\n",
    "         [\"Apariencia\", \"Palate\"], [\"Apariencia\", \"Taste\"],[\"Overall\", \"Aroma\"]]\n",
    "\n",
    "fig = plt.figure(figsize = (15,15))\n",
    "fig.suptitle('HAC complete (Cero=setosa, Uno=versicolor, Dos=virginica)')\n",
    "\n",
    "tiempo=[]\n",
    "for X,i in zip(data,range(6)):\n",
    "    #Agglomerative Clustering\n",
    "    start_time = time()\t\n",
    "    clustering = hac(linkage = \"complete\", n_clusters = 3, affinity=\"euclidean\")\n",
    "    clustering.fit(X)\n",
    "\n",
    "    final_time = time() - start_time\n",
    "    tiempo.append(final_time)\n",
    "\n",
    "    HAC_labels = clustering.labels_\n",
    "\n",
    "    #Normalization\n",
    "    x_min, x_max = numpy.min(X, axis = 0), numpy.max(X, axis = 0)\n",
    "    #X = (X - x_min) / (x_max - x_min)\n",
    "    \n",
    "    #Visualitation\n",
    "    ax = fig.add_subplot(2,3,i+1)\n",
    "    ax.set_xlabel(labels[i][0])\n",
    "    ax.set_ylabel(labels[i][1])\n",
    "\n",
    "    plt.title( 'Grafico: %d' % (i+1))\n",
    "    for i in range(X.shape[0]):\n",
    "        plt.text(X[i,0], X[i,1], \"o\",\n",
    "        color=plt.cm.spectral(clustering.labels_[i]/10.+0.1),\n",
    "        fontdict={'weight': 'bold', 'size': 8})\n",
    "\n",
    "    ax.set_xticks(())\n",
    "    ax.set_yticks(())\n",
    "    ax.axis([0,6.05,0,6.05])\n",
    "\n",
    "print \"Tiempo de ejecucion:\", numpy.median(tiempo),\"[s]\"\n",
    "plt.show()\n",
    "\n",
    "\n",
    "\n"
   ]
  },
  {
   "cell_type": "code",
   "execution_count": null,
   "metadata": {
    "collapsed": false,
    "scrolled": true
   },
   "outputs": [],
   "source": [
    "#Test with PCA\n",
    "\n",
    "from sklearn.decomposition import PCA\n",
    "\n",
    "#print reviews[:int(100),[1,2,3,5,6,8]]\n",
    "\n",
    "pca = PCA(n_components=2)\n",
    "pca.fit(reviews[:int(100),[1,2,3,5,6,8]])\n",
    "X = pca.transform(reviews[:int(100),[1,2,3,5,6,8]])\n",
    "\n",
    "\n",
    "\n",
    "fig = plt.figure(figsize = (15,15))\n",
    "fig.suptitle('HAC complete (Cero=setosa, Uno=versicolor, Dos=virginica)')\n",
    "\n",
    "ax = fig.add_subplot(1,1,1)\n",
    "ax.set_xlabel(\"caca\")\n",
    "ax.set_ylabel(\"peo\")\n",
    "\n",
    "for i in range(X.shape[0]):\n",
    "    plt.text(X[i,0], X[i,1], \"o\",\n",
    "    fontdict={'weight': 'bold', 'size': 8})\n",
    "\n",
    "ax.set_xticks(())\n",
    "ax.set_yticks(())\n",
    "ax.axis([-5,5.05,-5,5.05])\n",
    "\n",
    "plt.show()"
   ]
  },
  {
   "cell_type": "code",
   "execution_count": null,
   "metadata": {
    "collapsed": false,
    "scrolled": true
   },
   "outputs": [],
   "source": []
  },
  {
   "cell_type": "code",
   "execution_count": 18,
   "metadata": {
    "collapsed": false
   },
   "outputs": [
    {
     "ename": "NameError",
     "evalue": "name 'decomposition' is not defined",
     "output_type": "error",
     "traceback": [
      "\u001b[0;31m---------------------------------------------------------------------------\u001b[0m",
      "\u001b[0;31mNameError\u001b[0m                                 Traceback (most recent call last)",
      "\u001b[0;32m<ipython-input-18-f8a2069db1a2>\u001b[0m in \u001b[0;36m<module>\u001b[0;34m()\u001b[0m\n\u001b[1;32m      7\u001b[0m \u001b[0mX\u001b[0m \u001b[0;34m=\u001b[0m \u001b[0mread\u001b[0m\u001b[0;34m[\u001b[0m\u001b[0;34m[\u001b[0m\u001b[0;34m'review_palate'\u001b[0m\u001b[0;34m,\u001b[0m\u001b[0;34m'review_appearance'\u001b[0m\u001b[0;34m,\u001b[0m\u001b[0;34m'review_aroma'\u001b[0m\u001b[0;34m,\u001b[0m\u001b[0;34m'review_taste'\u001b[0m\u001b[0;34m]\u001b[0m\u001b[0;34m]\u001b[0m\u001b[0;34m.\u001b[0m\u001b[0mas_matrix\u001b[0m\u001b[0;34m(\u001b[0m\u001b[0;34m)\u001b[0m\u001b[0;34m\u001b[0m\u001b[0m\n\u001b[1;32m      8\u001b[0m \u001b[0mX\u001b[0m \u001b[0;34m=\u001b[0m \u001b[0mStandardScaler\u001b[0m\u001b[0;34m(\u001b[0m\u001b[0;34m)\u001b[0m\u001b[0;34m.\u001b[0m\u001b[0mfit_transform\u001b[0m\u001b[0;34m(\u001b[0m\u001b[0mX\u001b[0m\u001b[0;34m)\u001b[0m\u001b[0;34m\u001b[0m\u001b[0m\n\u001b[0;32m----> 9\u001b[0;31m \u001b[0mpca\u001b[0m \u001b[0;34m=\u001b[0m \u001b[0mdecomposition\u001b[0m\u001b[0;34m.\u001b[0m\u001b[0mPCA\u001b[0m\u001b[0;34m(\u001b[0m\u001b[0mn_components\u001b[0m\u001b[0;34m=\u001b[0m\u001b[0;36m4\u001b[0m\u001b[0;34m)\u001b[0m\u001b[0;34m\u001b[0m\u001b[0m\n\u001b[0m\u001b[1;32m     10\u001b[0m \u001b[0mpca\u001b[0m\u001b[0;34m.\u001b[0m\u001b[0mfit\u001b[0m\u001b[0;34m(\u001b[0m\u001b[0mX\u001b[0m\u001b[0;34m)\u001b[0m\u001b[0;34m\u001b[0m\u001b[0m\n\u001b[1;32m     11\u001b[0m \u001b[0mX\u001b[0m \u001b[0;34m=\u001b[0m \u001b[0mpca\u001b[0m\u001b[0;34m.\u001b[0m\u001b[0mtransform\u001b[0m\u001b[0;34m(\u001b[0m\u001b[0mX\u001b[0m\u001b[0;34m)\u001b[0m\u001b[0;34m\u001b[0m\u001b[0m\n",
      "\u001b[0;31mNameError\u001b[0m: name 'decomposition' is not defined"
     ]
    }
   ],
   "source": [
    "from sklearn.preprocessing import StandardScaler\n",
    "from sklearn.cluster import DBSCAN\n",
    "import numpy\n",
    "from sklearn import decomposition\n",
    "\n",
    "\n",
    "X = read[['review_palate','review_appearance','review_aroma','review_taste']].as_matrix()\n",
    "X = StandardScaler().fit_transform(X)\n",
    "pca = decomposition.PCA(n_components=4)\n",
    "pca.fit(X)\n",
    "X = pca.transform(X)\n",
    "print X\n",
    "\n",
    "\n",
    "#print X\n",
    "\n",
    "db = DBSCAN(eps=0.1, min_samples=7).fit(X)\n",
    "core_samples_mask = numpy.zeros_like(db.labels_, dtype = bool)\n",
    "core_samples_mask[db.core_sample_indices_] = True\n",
    "\n",
    "labels = db.labels_\n",
    "unique_labels = set(labels)\n",
    "\n",
    "colors = plt.cm.Spectral(numpy.linspace(0, 1, len(unique_labels)))\n",
    "\n",
    "for k, col in zip(unique_labels, colors):\n",
    "\tif k == -1:\n",
    "\t\tcol = 'k'\n",
    "\n",
    "\tclass_member_mask = (labels == k)\n",
    "\n",
    "\txy = X[class_member_mask & core_samples_mask]\n",
    "\tplt.plot(xy[:, 0], xy[:, 1], 'o', markerfacecolor=col, markeredgecolor='k', markersize=10)\n",
    "\txy = X[class_member_mask & ~core_samples_mask]\n",
    "        plt.plot(xy[:, 0], xy[:, 1], 'o', markerfacecolor=col, markeredgecolor='k', markersize=6)\n",
    "\n",
    "plt.title(\"DBSCAN\")\n",
    "plt.show()"
   ]
  },
  {
   "cell_type": "code",
   "execution_count": null,
   "metadata": {
    "collapsed": false
   },
   "outputs": [],
   "source": [
    "# Setting\n",
    "import numpy\n",
    "from matplotlib import pyplot as plt\n",
    "\n",
    "\n",
    "from sklearn.cluster import AgglomerativeClustering as hac\n",
    "\n",
    "#Dataset creation\n",
    "from sklearn import datasets\n",
    "#iris   = datasets.load_iris()\n",
    "\n",
    "data   = [iris.data[:, [0,3]], iris.data[:, 0:2], iris.data[:, 2:4], iris.data[:, 1:3], iris.data[:, [0,2]], iris.data[:, [1,3]]]\n",
    "\n",
    "fig = plt.figure(figsize = (5,5))\n",
    "fig.suptitle('SUBTITULO')\n",
    "\n",
    "\n",
    "print data\n",
    "\n",
    "#Agglomerative Clustering\n",
    "\n",
    "#clustering = Ward(n_clusters=3, connectivity=None, n_components=None, compute_full_tree='auto')\n",
    "clustering = hac(linkage = \"ward\", n_clusters = 3, affinity=\"euclidean\") #se obtiene el mismo resultado\n",
    "clustering.fit(X)\n",
    "\n",
    "\n",
    "\n",
    "\n",
    "HAC_labels = clustering.labels_\n",
    "\n",
    "#Normalization\n",
    "x_min, x_max = numpy.min(X, axis = 0), numpy.max(X, axis = 0)\n",
    "X = (X - x_min) / (x_max - x_min)\n",
    "\n",
    "#Visualitation\n",
    "ax = fig.add_subplot(2,3,i+1)\n",
    "ax.set_xlabel(\"X\")\n",
    "ax.set_ylabel(\"Y\")\n",
    "ax.set_xticks(())\n",
    "ax.set_yticks(())\n",
    "ax.axis([0,1.05,0,1.05])\n",
    "plt.title('Grafico: %d' % (i+1))\n",
    "\n",
    "for i in range(X.shape[0]):\n",
    "    plt.text(X[i,0], X[i,1], str(y[i]),\n",
    "    color=plt.cm.spectral(HAC_labels[i]/10.+0.1),\n",
    "    fontdict={'weight': 'bold', 'size': 8})\n",
    "\n",
    "plt.show()"
   ]
  },
  {
   "cell_type": "code",
   "execution_count": null,
   "metadata": {
    "collapsed": true
   },
   "outputs": [],
   "source": []
  },
  {
   "cell_type": "code",
   "execution_count": null,
   "metadata": {
    "collapsed": true
   },
   "outputs": [],
   "source": []
  },
  {
   "cell_type": "code",
   "execution_count": null,
   "metadata": {
    "collapsed": true
   },
   "outputs": [],
   "source": []
  },
  {
   "cell_type": "code",
   "execution_count": null,
   "metadata": {
    "collapsed": true
   },
   "outputs": [],
   "source": []
  },
  {
   "cell_type": "code",
   "execution_count": null,
   "metadata": {
    "collapsed": true
   },
   "outputs": [],
   "source": []
  },
  {
   "cell_type": "code",
   "execution_count": null,
   "metadata": {
    "collapsed": true
   },
   "outputs": [],
   "source": []
  }
 ],
 "metadata": {
  "kernelspec": {
   "display_name": "Python 2",
   "language": "python",
   "name": "python2"
  },
  "language_info": {
   "codemirror_mode": {
    "name": "ipython",
    "version": 2
   },
   "file_extension": ".py",
   "mimetype": "text/x-python",
   "name": "python",
   "nbconvert_exporter": "python",
   "pygments_lexer": "ipython2",
   "version": "2.7.13"
  }
 },
 "nbformat": 4,
 "nbformat_minor": 2
}
