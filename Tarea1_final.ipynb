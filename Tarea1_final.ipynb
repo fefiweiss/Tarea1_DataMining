{
 "cells": [
  {
   "cell_type": "code",
   "execution_count": 3,
   "metadata": {
    "collapsed": false
   },
   "outputs": [
    {
     "name": "stdout",
     "output_type": "stream",
     "text": [
      "[['Vecchio Birraio' 1.5 2.0 2.5 'Hefeweizen' 1.5 1.5 'Sausa Weizen' 5.0]\n",
      " ['Vecchio Birraio' 3.0 2.5 3.0 'English Strong Ale' 3.0 3.0 'Red Moon' 6.2]\n",
      " ['Vecchio Birraio' 3.0 2.5 3.0 'Foreign / Export Stout' 3.0 3.0\n",
      "  'Black Horse Black Beer' 6.5]\n",
      " ['Vecchio Birraio' 3.0 3.0 3.5 'German Pilsener' 2.5 3.0 'Sausa Pils' 5.0]\n",
      " ['Caldera Brewing Company' 4.0 4.5 4.0 'American Double / Imperial IPA'\n",
      "  4.0 4.5 'Cauldron DIPA' 7.7]\n",
      " ['Caldera Brewing Company' 3.0 3.5 3.5 'Herbed / Spiced Beer' 3.0 3.5\n",
      "  'Caldera Ginger Beer' 4.7]\n",
      " ['Caldera Brewing Company' 3.5 3.5 3.5 'Herbed / Spiced Beer' 4.0 4.0\n",
      "  'Caldera Ginger Beer' 4.7]\n",
      " ['Caldera Brewing Company' 3.0 2.5 3.5 'Herbed / Spiced Beer' 2.0 3.5\n",
      "  'Caldera Ginger Beer' 4.7]\n",
      " ['Caldera Brewing Company' 4.0 3.0 3.5 'Herbed / Spiced Beer' 3.5 4.0\n",
      "  'Caldera Ginger Beer' 4.7]\n",
      " ['Caldera Brewing Company' 4.5 3.5 5.0 'Herbed / Spiced Beer' 4.0 4.0\n",
      "  'Caldera Ginger Beer' 4.7]]\n"
     ]
    }
   ],
   "source": [
    "import pandas as pd\n",
    "import numpy as np\n",
    "import matplotlib.pyplot as plt \n",
    "from sklearn import datasets\n",
    "from time import time\n",
    "\n",
    "read = pd.read_csv(\"sub_dataset/5_beers.csv\")\n",
    "read = read[[\"brewery_name\", \n",
    "            \"review_overall\", \n",
    "            \"review_aroma\", \n",
    "            \"review_appearance\", \n",
    "            \"beer_style\", \n",
    "            \"review_palate\",\n",
    "            \"review_taste\",\n",
    "            \"beer_name\",\n",
    "            \"beer_abv\"]]\n",
    "\n",
    "#print read[:10]\n",
    "reviews = read.as_matrix()\n",
    "print reviews[:10]"
   ]
  },
  {
   "cell_type": "code",
   "execution_count": 4,
   "metadata": {
    "collapsed": true
   },
   "outputs": [],
   "source": [
    "#reducción de dimensionalidad con PCA\n",
    "from sklearn.decomposition import PCA\n",
    "\n",
    "#print reviews[:int(100),[1,2,3,5,6,8]]\n",
    "\n",
    "pca = PCA(n_components=2)\n",
    "pca.fit(reviews[:int(100),[1,2,3,5,6,8]])\n",
    "X = pca.transform(reviews[:int(100),[1,2,3,5,6,8]])"
   ]
  },
  {
   "cell_type": "code",
   "execution_count": 5,
   "metadata": {
    "collapsed": false
   },
   "outputs": [
    {
     "name": "stdout",
     "output_type": "stream",
     "text": [
      "[[ 4.41550235 -1.56807202]\n",
      " [ 1.9238352  -0.3172329 ]\n",
      " [ 1.68779771 -0.50029579]\n",
      " [ 2.79352701  0.57918247]\n",
      " [-1.00948196  1.05346466]\n",
      " [ 2.59502586  1.27840651]\n",
      " [ 1.98664923  1.99591177]\n",
      " [ 3.20501057  0.59820325]\n",
      " [ 2.16488211  1.86366699]\n",
      " [ 1.36852026  2.88457865]]\n"
     ]
    }
   ],
   "source": [
    "print X[:10]"
   ]
  },
  {
   "cell_type": "code",
   "execution_count": 10,
   "metadata": {
    "collapsed": false
   },
   "outputs": [
    {
     "name": "stdout",
     "output_type": "stream",
     "text": [
      "100\n",
      "Tiempo promedio:  0.0017724831899 [s]\n"
     ]
    },
    {
     "data": {
      "image/png": "[encoded data removed]",
      "text/plain": [
       "<matplotlib.figure.Figure at 0x7f372edafd90>"
      ]
     },
     "metadata": {},
     "output_type": "display_data"
    }
   ],
   "source": [
    "#K-means\n",
    "from sklearn.cluster import KMeans\n",
    "\n",
    "tiempo = 0\n",
    "\n",
    "#Vizualitation\n",
    "fig = plt.figure(figsize = (10,10))\n",
    "\n",
    "\n",
    "start_time = time()\n",
    "\n",
    "k_means = KMeans(init=\"k-means++\", n_clusters = 5, n_init = 2)#, tol=0.0001, max_iter=30) 5 \n",
    "k_means.fit(X)\n",
    "\n",
    "final_time = time() - start_time\n",
    "tiempo += final_time\n",
    "k_means_labels = k_means.labels_\n",
    "    \n",
    "x_min, x_max = np.min(X, axis = 0), np.max(X, axis = 0)\n",
    "X = (X - x_min) / (x_max - x_min)\n",
    "\n",
    "ax = fig.add_subplot(1,1,1)\n",
    "ax.set_xlabel(\"x pca\")\n",
    "ax.set_ylabel(\"y pca\")\n",
    "plt.title(\"Grafico K-means\" )\n",
    "ax.set_xticks(())\n",
    "ax.set_yticks(())\n",
    "ax.axis([0, 1.05, 0, 1.05])\n",
    "\n",
    "#Visualitation (in 2D).\n",
    "print X.shape[0]\n",
    "for j in range(X.shape[0]):\n",
    "    plt.text(X[j,0], X[j,1], \"o\",\n",
    "    color=plt.cm.spectral(k_means_labels[j]/5.1),\n",
    "    fontdict={'weight': 'bold', 'size': 8})\n",
    "\n",
    "print \"Tiempo promedio: \", tiempo/6,\"[s]\"\n",
    "plt.show()"
   ]
  }
 ],
 "metadata": {
  "kernelspec": {
   "display_name": "Python 2",
   "language": "python",
   "name": "python2"
  },
  "language_info": {
   "codemirror_mode": {
    "name": "ipython",
    "version": 2
   },
   "file_extension": ".py",
   "mimetype": "text/x-python",
   "name": "python",
   "nbconvert_exporter": "python",
   "pygments_lexer": "ipython2",
   "version": "2.7.12"
  }
 },
 "nbformat": 4,
 "nbformat_minor": 2
}
